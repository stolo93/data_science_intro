{
 "cells": [
  {
   "cell_type": "markdown",
   "source": [
    "### Chapter 1"
   ],
   "metadata": {
    "collapsed": false
   },
   "id": "8d945a054e37123c"
  },
  {
   "cell_type": "code",
   "execution_count": 1,
   "outputs": [],
   "source": [
    "import pandas as pd"
   ],
   "metadata": {
    "collapsed": false,
    "ExecuteTime": {
     "end_time": "2023-09-24T10:01:11.049846674Z",
     "start_time": "2023-09-24T10:01:10.881280021Z"
    }
   },
   "id": "2aa66c3b69368388"
  },
  {
   "cell_type": "code",
   "execution_count": 2,
   "outputs": [],
   "source": [
    "df = pd.read_excel('../data/default_of_credit_card_clients__courseware_version_1_21_19.xls')"
   ],
   "metadata": {
    "collapsed": false,
    "ExecuteTime": {
     "end_time": "2023-09-24T10:01:11.847855572Z",
     "start_time": "2023-09-24T10:01:11.051287428Z"
    }
   },
   "id": "fdc653076ba17a3f"
  },
  {
   "cell_type": "markdown",
   "source": [
    "##### The business problem:\n",
    "Our client is a credit card company. They have brought us a dataset that includes some demographics and recent financial data (the past six months) for a sample of 30,000 of their account holders. This data is at the credit account level; in other words, there is one row for each account. Rows are labeled by whether in the next month after six month historical data period, an account owner has defaulted, or in other words, failed to make the minimum payment.\n",
    "\n",
    "##### Goal:\n",
    "Goal is to develop a predictive model for whether an account will default next month, given demographics and historical data."
   ],
   "metadata": {
    "collapsed": false
   },
   "id": "f39b766b60da44e5"
  },
  {
   "cell_type": "code",
   "execution_count": 3,
   "outputs": [
    {
     "name": "stdout",
     "output_type": "stream",
     "text": [
      "<class 'pandas.core.frame.DataFrame'>\n",
      "RangeIndex: 30000 entries, 0 to 29999\n",
      "Data columns (total 25 columns):\n",
      " #   Column                      Non-Null Count  Dtype \n",
      "---  ------                      --------------  ----- \n",
      " 0   ID                          30000 non-null  object\n",
      " 1   LIMIT_BAL                   30000 non-null  int64 \n",
      " 2   SEX                         30000 non-null  int64 \n",
      " 3   EDUCATION                   30000 non-null  int64 \n",
      " 4   MARRIAGE                    30000 non-null  int64 \n",
      " 5   AGE                         30000 non-null  int64 \n",
      " 6   PAY_1                       30000 non-null  object\n",
      " 7   PAY_2                       30000 non-null  int64 \n",
      " 8   PAY_3                       30000 non-null  int64 \n",
      " 9   PAY_4                       30000 non-null  int64 \n",
      " 10  PAY_5                       30000 non-null  int64 \n",
      " 11  PAY_6                       30000 non-null  int64 \n",
      " 12  BILL_AMT1                   30000 non-null  int64 \n",
      " 13  BILL_AMT2                   30000 non-null  int64 \n",
      " 14  BILL_AMT3                   30000 non-null  int64 \n",
      " 15  BILL_AMT4                   30000 non-null  int64 \n",
      " 16  BILL_AMT5                   30000 non-null  int64 \n",
      " 17  BILL_AMT6                   30000 non-null  int64 \n",
      " 18  PAY_AMT1                    30000 non-null  int64 \n",
      " 19  PAY_AMT2                    30000 non-null  int64 \n",
      " 20  PAY_AMT3                    30000 non-null  int64 \n",
      " 21  PAY_AMT4                    30000 non-null  int64 \n",
      " 22  PAY_AMT5                    30000 non-null  int64 \n",
      " 23  PAY_AMT6                    30000 non-null  int64 \n",
      " 24  default payment next month  30000 non-null  int64 \n",
      "dtypes: int64(23), object(2)\n",
      "memory usage: 5.7+ MB\n"
     ]
    }
   ],
   "source": [
    "df.info()"
   ],
   "metadata": {
    "collapsed": false,
    "ExecuteTime": {
     "end_time": "2023-09-24T10:01:11.865828954Z",
     "start_time": "2023-09-24T10:01:11.848126541Z"
    }
   },
   "id": "521eba903c90ef5f"
  },
  {
   "cell_type": "markdown",
   "source": [
    "#### Data validation"
   ],
   "metadata": {
    "collapsed": false
   },
   "id": "fed8129efc945b18"
  },
  {
   "cell_type": "code",
   "execution_count": 4,
   "outputs": [
    {
     "data": {
      "text/plain": "              ID  LIMIT_BAL  SEX  EDUCATION  MARRIAGE  AGE PAY_1  PAY_2  \\\n0  798fc410-45c1      20000    2          2         1   24     2      2   \n1  8a8c8f3b-8eb4     120000    2          2         2   26    -1      2   \n2  85698822-43f5      90000    2          2         2   34     0      0   \n3  0737c11b-be42      50000    2          2         1   37     0      0   \n4  3b7f77cc-dbc0      50000    1          2         1   57    -1      0   \n\n   PAY_3  PAY_4  ...  BILL_AMT4  BILL_AMT5  BILL_AMT6  PAY_AMT1  PAY_AMT2  \\\n0     -1     -1  ...          0          0          0         0       689   \n1      0      0  ...       3272       3455       3261         0      1000   \n2      0      0  ...      14331      14948      15549      1518      1500   \n3      0      0  ...      28314      28959      29547      2000      2019   \n4     -1      0  ...      20940      19146      19131      2000     36681   \n\n   PAY_AMT3  PAY_AMT4  PAY_AMT5  PAY_AMT6  default payment next month  \n0         0         0         0         0                           1  \n1      1000      1000         0      2000                           1  \n2      1000      1000      1000      5000                           0  \n3      1200      1100      1069      1000                           0  \n4     10000      9000       689       679                           0  \n\n[5 rows x 25 columns]",
      "text/html": "<div>\n<style scoped>\n    .dataframe tbody tr th:only-of-type {\n        vertical-align: middle;\n    }\n\n    .dataframe tbody tr th {\n        vertical-align: top;\n    }\n\n    .dataframe thead th {\n        text-align: right;\n    }\n</style>\n<table border=\"1\" class=\"dataframe\">\n  <thead>\n    <tr style=\"text-align: right;\">\n      <th></th>\n      <th>ID</th>\n      <th>LIMIT_BAL</th>\n      <th>SEX</th>\n      <th>EDUCATION</th>\n      <th>MARRIAGE</th>\n      <th>AGE</th>\n      <th>PAY_1</th>\n      <th>PAY_2</th>\n      <th>PAY_3</th>\n      <th>PAY_4</th>\n      <th>...</th>\n      <th>BILL_AMT4</th>\n      <th>BILL_AMT5</th>\n      <th>BILL_AMT6</th>\n      <th>PAY_AMT1</th>\n      <th>PAY_AMT2</th>\n      <th>PAY_AMT3</th>\n      <th>PAY_AMT4</th>\n      <th>PAY_AMT5</th>\n      <th>PAY_AMT6</th>\n      <th>default payment next month</th>\n    </tr>\n  </thead>\n  <tbody>\n    <tr>\n      <th>0</th>\n      <td>798fc410-45c1</td>\n      <td>20000</td>\n      <td>2</td>\n      <td>2</td>\n      <td>1</td>\n      <td>24</td>\n      <td>2</td>\n      <td>2</td>\n      <td>-1</td>\n      <td>-1</td>\n      <td>...</td>\n      <td>0</td>\n      <td>0</td>\n      <td>0</td>\n      <td>0</td>\n      <td>689</td>\n      <td>0</td>\n      <td>0</td>\n      <td>0</td>\n      <td>0</td>\n      <td>1</td>\n    </tr>\n    <tr>\n      <th>1</th>\n      <td>8a8c8f3b-8eb4</td>\n      <td>120000</td>\n      <td>2</td>\n      <td>2</td>\n      <td>2</td>\n      <td>26</td>\n      <td>-1</td>\n      <td>2</td>\n      <td>0</td>\n      <td>0</td>\n      <td>...</td>\n      <td>3272</td>\n      <td>3455</td>\n      <td>3261</td>\n      <td>0</td>\n      <td>1000</td>\n      <td>1000</td>\n      <td>1000</td>\n      <td>0</td>\n      <td>2000</td>\n      <td>1</td>\n    </tr>\n    <tr>\n      <th>2</th>\n      <td>85698822-43f5</td>\n      <td>90000</td>\n      <td>2</td>\n      <td>2</td>\n      <td>2</td>\n      <td>34</td>\n      <td>0</td>\n      <td>0</td>\n      <td>0</td>\n      <td>0</td>\n      <td>...</td>\n      <td>14331</td>\n      <td>14948</td>\n      <td>15549</td>\n      <td>1518</td>\n      <td>1500</td>\n      <td>1000</td>\n      <td>1000</td>\n      <td>1000</td>\n      <td>5000</td>\n      <td>0</td>\n    </tr>\n    <tr>\n      <th>3</th>\n      <td>0737c11b-be42</td>\n      <td>50000</td>\n      <td>2</td>\n      <td>2</td>\n      <td>1</td>\n      <td>37</td>\n      <td>0</td>\n      <td>0</td>\n      <td>0</td>\n      <td>0</td>\n      <td>...</td>\n      <td>28314</td>\n      <td>28959</td>\n      <td>29547</td>\n      <td>2000</td>\n      <td>2019</td>\n      <td>1200</td>\n      <td>1100</td>\n      <td>1069</td>\n      <td>1000</td>\n      <td>0</td>\n    </tr>\n    <tr>\n      <th>4</th>\n      <td>3b7f77cc-dbc0</td>\n      <td>50000</td>\n      <td>1</td>\n      <td>2</td>\n      <td>1</td>\n      <td>57</td>\n      <td>-1</td>\n      <td>0</td>\n      <td>-1</td>\n      <td>0</td>\n      <td>...</td>\n      <td>20940</td>\n      <td>19146</td>\n      <td>19131</td>\n      <td>2000</td>\n      <td>36681</td>\n      <td>10000</td>\n      <td>9000</td>\n      <td>689</td>\n      <td>679</td>\n      <td>0</td>\n    </tr>\n  </tbody>\n</table>\n<p>5 rows × 25 columns</p>\n</div>"
     },
     "execution_count": 4,
     "metadata": {},
     "output_type": "execute_result"
    }
   ],
   "source": [
    "df.head()"
   ],
   "metadata": {
    "collapsed": false,
    "ExecuteTime": {
     "end_time": "2023-09-24T10:01:11.899073723Z",
     "start_time": "2023-09-24T10:01:11.869322003Z"
    }
   },
   "id": "a386356e70130827"
  },
  {
   "cell_type": "code",
   "execution_count": 5,
   "outputs": [
    {
     "data": {
      "text/plain": "29687"
     },
     "execution_count": 5,
     "metadata": {},
     "output_type": "execute_result"
    }
   ],
   "source": [
    "# We expect 30,000 samples. Le1t's check if there really are 30,000 unique sample IDs\n",
    "df['ID'].nunique()"
   ],
   "metadata": {
    "collapsed": false,
    "ExecuteTime": {
     "end_time": "2023-09-24T10:01:11.899636429Z",
     "start_time": "2023-09-24T10:01:11.881618350Z"
    }
   },
   "id": "e1d18fb76b405eb0"
  },
  {
   "cell_type": "code",
   "execution_count": 6,
   "outputs": [
    {
     "data": {
      "text/plain": "(30000, 25)"
     },
     "execution_count": 6,
     "metadata": {},
     "output_type": "execute_result"
    }
   ],
   "source": [
    "df.shape"
   ],
   "metadata": {
    "collapsed": false,
    "ExecuteTime": {
     "end_time": "2023-09-24T10:01:11.953542363Z",
     "start_time": "2023-09-24T10:01:11.886656977Z"
    }
   },
   "id": "7d33f96fd1612be6"
  },
  {
   "cell_type": "markdown",
   "source": [
    "There are 30,000 samples out of which only 29,687 are unique."
   ],
   "metadata": {
    "collapsed": false
   },
   "id": "6303d5687a911a41"
  },
  {
   "cell_type": "code",
   "execution_count": 7,
   "outputs": [
    {
     "data": {
      "text/plain": "ID\n89f8f447-fca8    2\n7c9b7473-cc2f    2\n90330d02-82d9    2\n75938fec-e5ec    2\n2a793ecf-05c6    2\nName: count, dtype: int64"
     },
     "execution_count": 7,
     "metadata": {},
     "output_type": "execute_result"
    }
   ],
   "source": [
    "id_counts = df['ID'].value_counts()\n",
    "id_counts.head()"
   ],
   "metadata": {
    "collapsed": false,
    "ExecuteTime": {
     "end_time": "2023-09-24T10:01:11.961238021Z",
     "start_time": "2023-09-24T10:01:11.929531404Z"
    }
   },
   "id": "9723e0bf2828a4bd"
  },
  {
   "cell_type": "code",
   "execution_count": 8,
   "outputs": [
    {
     "data": {
      "text/plain": "count\n1    29374\n2      313\nName: count, dtype: int64"
     },
     "execution_count": 8,
     "metadata": {},
     "output_type": "execute_result"
    }
   ],
   "source": [
    "id_counts.value_counts()"
   ],
   "metadata": {
    "collapsed": false,
    "ExecuteTime": {
     "end_time": "2023-09-24T10:01:11.961638610Z",
     "start_time": "2023-09-24T10:01:11.929722506Z"
    }
   },
   "id": "2dbec202e173a163"
  },
  {
   "cell_type": "markdown",
   "source": [
    "As we can see nearly all IDs occur only once and some of them occur twice. Now, let's mask the duplicates"
   ],
   "metadata": {
    "collapsed": false
   },
   "id": "86679b9f8a7b08b2"
  },
  {
   "cell_type": "code",
   "execution_count": 9,
   "outputs": [
    {
     "data": {
      "text/plain": "ID\n89f8f447-fca8    True\n7c9b7473-cc2f    True\n90330d02-82d9    True\n75938fec-e5ec    True\n2a793ecf-05c6    True\nName: count, dtype: bool"
     },
     "execution_count": 9,
     "metadata": {},
     "output_type": "execute_result"
    }
   ],
   "source": [
    "dupe_mask = id_counts == 2\n",
    "dupe_mask[0:5]"
   ],
   "metadata": {
    "collapsed": false,
    "ExecuteTime": {
     "end_time": "2023-09-24T10:01:11.961868825Z",
     "start_time": "2023-09-24T10:01:11.929819739Z"
    }
   },
   "id": "45f74c04d434aeb5"
  },
  {
   "cell_type": "code",
   "execution_count": 10,
   "outputs": [
    {
     "data": {
      "text/plain": "313"
     },
     "execution_count": 10,
     "metadata": {},
     "output_type": "execute_result"
    }
   ],
   "source": [
    "# Access duplicate IDs\n",
    "dupe_ids = id_counts.index[dupe_mask]\n",
    "dupe_ids = list(dupe_ids)\n",
    "len(dupe_ids)"
   ],
   "metadata": {
    "collapsed": false,
    "ExecuteTime": {
     "end_time": "2023-09-24T10:01:12.008016544Z",
     "start_time": "2023-09-24T10:01:11.929904552Z"
    }
   },
   "id": "4fc24f5af360b377"
  },
  {
   "cell_type": "code",
   "execution_count": 15,
   "outputs": [
    {
     "data": {
      "text/plain": "ID\n89f8f447-fca8     True\n7c9b7473-cc2f     True\n90330d02-82d9     True\n75938fec-e5ec     True\n2a793ecf-05c6     True\n                 ...  \nbd737997-0eb0    False\n6d4101a3-72cb    False\nffba3018-ce71    False\ndf11c637-f8c2    False\nef4d40c5-8697    False\nName: count, Length: 29687, dtype: bool"
     },
     "execution_count": 15,
     "metadata": {},
     "output_type": "execute_result"
    }
   ],
   "source": [
    "dupe_mask"
   ],
   "metadata": {
    "collapsed": false,
    "ExecuteTime": {
     "end_time": "2023-09-24T10:16:43.226313286Z",
     "start_time": "2023-09-24T10:16:43.182065545Z"
    }
   },
   "id": "6d1b953e6e44250b"
  },
  {
   "cell_type": "markdown",
   "source": [
    "Now after finding duplicate IDs, let's explore what they are"
   ],
   "metadata": {
    "collapsed": false
   },
   "id": "234977fbfb2b6ab9"
  },
  {
   "cell_type": "code",
   "execution_count": 32,
   "outputs": [
    {
     "data": {
      "text/plain": "                ID  LIMIT_BAL  SEX  EDUCATION  MARRIAGE  AGE PAY_1  PAY_2  \\\n141  26bde6da-f148     180000    1          2         2   28    -1     -1   \n196  42009c72-651f     150000    2          2         1   34    -2     -2   \n241  26bde6da-f148          0    0          0         0    0     0      0   \n296  42009c72-651f          0    0          0         0    0     0      0   \n323  73ed1381-3a3f     230000    2          2         1   28     0      0   \n\n     PAY_3  PAY_4  ...  BILL_AMT4  BILL_AMT5  BILL_AMT6  PAY_AMT1  PAY_AMT2  \\\n141     -1     -1  ...        332        416        416         0       416   \n196     -2     -2  ...        116          0       1500         0         0   \n241      0      0  ...          0          0          0         0         0   \n296      0      0  ...          0          0          0         0         0   \n323      0     -2  ...       2100        767       6173      1710      1100   \n\n     PAY_AMT3  PAY_AMT4  PAY_AMT5  PAY_AMT6  default payment next month  \n141       332       500      3500       832                           0  \n196       116         0      1500         0                           0  \n241         0         0         0         0                           0  \n296         0         0         0         0                           0  \n323      1000       767      6173      1000                           1  \n\n[5 rows x 25 columns]",
      "text/html": "<div>\n<style scoped>\n    .dataframe tbody tr th:only-of-type {\n        vertical-align: middle;\n    }\n\n    .dataframe tbody tr th {\n        vertical-align: top;\n    }\n\n    .dataframe thead th {\n        text-align: right;\n    }\n</style>\n<table border=\"1\" class=\"dataframe\">\n  <thead>\n    <tr style=\"text-align: right;\">\n      <th></th>\n      <th>ID</th>\n      <th>LIMIT_BAL</th>\n      <th>SEX</th>\n      <th>EDUCATION</th>\n      <th>MARRIAGE</th>\n      <th>AGE</th>\n      <th>PAY_1</th>\n      <th>PAY_2</th>\n      <th>PAY_3</th>\n      <th>PAY_4</th>\n      <th>...</th>\n      <th>BILL_AMT4</th>\n      <th>BILL_AMT5</th>\n      <th>BILL_AMT6</th>\n      <th>PAY_AMT1</th>\n      <th>PAY_AMT2</th>\n      <th>PAY_AMT3</th>\n      <th>PAY_AMT4</th>\n      <th>PAY_AMT5</th>\n      <th>PAY_AMT6</th>\n      <th>default payment next month</th>\n    </tr>\n  </thead>\n  <tbody>\n    <tr>\n      <th>141</th>\n      <td>26bde6da-f148</td>\n      <td>180000</td>\n      <td>1</td>\n      <td>2</td>\n      <td>2</td>\n      <td>28</td>\n      <td>-1</td>\n      <td>-1</td>\n      <td>-1</td>\n      <td>-1</td>\n      <td>...</td>\n      <td>332</td>\n      <td>416</td>\n      <td>416</td>\n      <td>0</td>\n      <td>416</td>\n      <td>332</td>\n      <td>500</td>\n      <td>3500</td>\n      <td>832</td>\n      <td>0</td>\n    </tr>\n    <tr>\n      <th>196</th>\n      <td>42009c72-651f</td>\n      <td>150000</td>\n      <td>2</td>\n      <td>2</td>\n      <td>1</td>\n      <td>34</td>\n      <td>-2</td>\n      <td>-2</td>\n      <td>-2</td>\n      <td>-2</td>\n      <td>...</td>\n      <td>116</td>\n      <td>0</td>\n      <td>1500</td>\n      <td>0</td>\n      <td>0</td>\n      <td>116</td>\n      <td>0</td>\n      <td>1500</td>\n      <td>0</td>\n      <td>0</td>\n    </tr>\n    <tr>\n      <th>241</th>\n      <td>26bde6da-f148</td>\n      <td>0</td>\n      <td>0</td>\n      <td>0</td>\n      <td>0</td>\n      <td>0</td>\n      <td>0</td>\n      <td>0</td>\n      <td>0</td>\n      <td>0</td>\n      <td>...</td>\n      <td>0</td>\n      <td>0</td>\n      <td>0</td>\n      <td>0</td>\n      <td>0</td>\n      <td>0</td>\n      <td>0</td>\n      <td>0</td>\n      <td>0</td>\n      <td>0</td>\n    </tr>\n    <tr>\n      <th>296</th>\n      <td>42009c72-651f</td>\n      <td>0</td>\n      <td>0</td>\n      <td>0</td>\n      <td>0</td>\n      <td>0</td>\n      <td>0</td>\n      <td>0</td>\n      <td>0</td>\n      <td>0</td>\n      <td>...</td>\n      <td>0</td>\n      <td>0</td>\n      <td>0</td>\n      <td>0</td>\n      <td>0</td>\n      <td>0</td>\n      <td>0</td>\n      <td>0</td>\n      <td>0</td>\n      <td>0</td>\n    </tr>\n    <tr>\n      <th>323</th>\n      <td>73ed1381-3a3f</td>\n      <td>230000</td>\n      <td>2</td>\n      <td>2</td>\n      <td>1</td>\n      <td>28</td>\n      <td>0</td>\n      <td>0</td>\n      <td>0</td>\n      <td>-2</td>\n      <td>...</td>\n      <td>2100</td>\n      <td>767</td>\n      <td>6173</td>\n      <td>1710</td>\n      <td>1100</td>\n      <td>1000</td>\n      <td>767</td>\n      <td>6173</td>\n      <td>1000</td>\n      <td>1</td>\n    </tr>\n  </tbody>\n</table>\n<p>5 rows × 25 columns</p>\n</div>"
     },
     "execution_count": 32,
     "metadata": {},
     "output_type": "execute_result"
    }
   ],
   "source": [
    "df.loc[df['ID'].isin(dupe_ids)].head()"
   ],
   "metadata": {
    "collapsed": false,
    "ExecuteTime": {
     "end_time": "2023-09-24T11:09:09.174083034Z",
     "start_time": "2023-09-24T11:09:09.171478778Z"
    }
   },
   "id": "62972d12abc5ec5c"
  },
  {
   "cell_type": "markdown",
   "source": [
    "We can see that of the two duplicate rows only one is valid. As the other one is all zeroes."
   ],
   "metadata": {
    "collapsed": false
   },
   "id": "521568a2cad64f87"
  },
  {
   "cell_type": "code",
   "execution_count": 40,
   "outputs": [
    {
     "data": {
      "text/plain": "315"
     },
     "execution_count": 40,
     "metadata": {},
     "output_type": "execute_result"
    }
   ],
   "source": [
    "df_zero_mask = df == 0\n",
    "feature_zero_mask = df_zero_mask.iloc[:, 1:].all(axis=1)\n",
    "sum(feature_zero_mask)  # The number of rows with all zeroes except for ID"
   ],
   "metadata": {
    "collapsed": false
   },
   "id": "5cd1ca92579febeb"
  },
  {
   "cell_type": "markdown",
   "source": [
    "The number of duplicate rows is 313 and the number of rows with all zeroes is 315, therefore if we delete all of these rows we may get rid of the duplicate ID problem."
   ],
   "metadata": {
    "collapsed": false
   },
   "id": "3cbd7061a87983aa"
  },
  {
   "cell_type": "code",
   "execution_count": 47,
   "outputs": [
    {
     "data": {
      "text/plain": "True"
     },
     "execution_count": 47,
     "metadata": {},
     "output_type": "execute_result"
    }
   ],
   "source": [
    "df_clean_1 = df.loc[~feature_zero_mask].copy()  # Create a clean copy of the original data\n",
    "df_clean_1.shape[0] == df_clean_1['ID'].nunique()  # Check if all rows have unique IDs"
   ],
   "metadata": {
    "collapsed": false,
    "ExecuteTime": {
     "end_time": "2023-09-24T11:30:26.113721986Z",
     "start_time": "2023-09-24T11:30:26.071851415Z"
    }
   },
   "id": "692f94c3788b9372"
  }
 ],
 "metadata": {
  "kernelspec": {
   "display_name": "Python 3",
   "language": "python",
   "name": "python3"
  },
  "language_info": {
   "codemirror_mode": {
    "name": "ipython",
    "version": 2
   },
   "file_extension": ".py",
   "mimetype": "text/x-python",
   "name": "python",
   "nbconvert_exporter": "python",
   "pygments_lexer": "ipython2",
   "version": "2.7.6"
  }
 },
 "nbformat": 4,
 "nbformat_minor": 5
}
